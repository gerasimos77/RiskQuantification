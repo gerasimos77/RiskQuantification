{
 "cells": [
  {
   "cell_type": "code",
   "execution_count": 1,
   "id": "869779cc-251d-43c6-8f2a-98fa8d089768",
   "metadata": {},
   "outputs": [],
   "source": [
    "import numpy as np\n",
    "import pandas as pd\n",
    "import matplotlib.pyplot as plt\n",
    "%matplotlib inline"
   ]
  },
  {
   "cell_type": "markdown",
   "id": "d736fbe9-cf04-4c37-a89d-8b3338cf4d12",
   "metadata": {
    "jp-MarkdownHeadingCollapsed": true
   },
   "source": [
    "# Normal Distribution"
   ]
  },
  {
   "cell_type": "code",
   "execution_count": 2,
   "id": "07c1f599-f007-4f57-a655-f21da76883c4",
   "metadata": {},
   "outputs": [],
   "source": [
    "data = np.random.normal(loc=5, scale=3, size=1000)"
   ]
  },
  {
   "cell_type": "code",
   "execution_count": 3,
   "id": "36a64de7-2f50-4722-87d8-943372da23fe",
   "metadata": {},
   "outputs": [
    {
     "data": {
      "text/plain": [
       "numpy.ndarray"
      ]
     },
     "execution_count": 3,
     "metadata": {},
     "output_type": "execute_result"
    }
   ],
   "source": [
    "type(data)"
   ]
  },
  {
   "cell_type": "code",
   "execution_count": 4,
   "id": "3ddbde13-8a17-4df7-b336-dcf0dcceedc3",
   "metadata": {},
   "outputs": [
    {
     "data": {
      "image/png": "[encoded data removed]",
      "text/plain": [
       "<Figure size 640x480 with 1 Axes>"
      ]
     },
     "metadata": {},
     "output_type": "display_data"
    }
   ],
   "source": [
    "plt.hist(data, bins=80);"
   ]
  },
  {
   "cell_type": "code",
   "execution_count": 5,
   "id": "6308fdd0-281b-4d10-aad2-902b23d82a32",
   "metadata": {},
   "outputs": [
    {
     "data": {
      "text/plain": [
       "array([[-0.57409271,  0.64397956],\n",
       "       [ 0.3634202 ,  0.96323835],\n",
       "       [-1.43276344, -0.87661114]])"
      ]
     },
     "execution_count": 5,
     "metadata": {},
     "output_type": "execute_result"
    }
   ],
   "source": [
    "w=np.random.normal(loc=0, scale=1, size=(3,2))\n",
    "\n",
    "w"
   ]
  },
  {
   "cell_type": "code",
   "execution_count": 6,
   "id": "83ff930e-a2cb-4d78-9853-bb2115611810",
   "metadata": {},
   "outputs": [
    {
     "data": {
      "text/plain": [
       "array([[-0.57409271,  0.06988685],\n",
       "       [ 0.3634202 ,  1.32665855],\n",
       "       [-1.43276344, -2.30937458]])"
      ]
     },
     "execution_count": 6,
     "metadata": {},
     "output_type": "execute_result"
    }
   ],
   "source": [
    "np.cumsum(w, axis=1)"
   ]
  },
  {
   "cell_type": "code",
   "execution_count": 7,
   "id": "734588ba-d4c5-458d-8525-78ae4c24b8a1",
   "metadata": {},
   "outputs": [
    {
     "data": {
      "text/plain": [
       "array([[-0.57409271,  0.64397956],\n",
       "       [-0.21067251,  1.60721791],\n",
       "       [-1.64343595,  0.73060677]])"
      ]
     },
     "execution_count": 7,
     "metadata": {},
     "output_type": "execute_result"
    }
   ],
   "source": [
    "np.cumsum(w, axis=0)"
   ]
  },
  {
   "cell_type": "code",
   "execution_count": 8,
   "id": "69a32f51-9b7c-4370-a4cf-a9a7b5fdb3ad",
   "metadata": {},
   "outputs": [
    {
     "data": {
      "text/plain": [
       "array([[-1.14818542,  1.28795913],\n",
       "       [ 0.7268404 ,  1.92647669],\n",
       "       [-2.86552687, -1.75322228]])"
      ]
     },
     "execution_count": 8,
     "metadata": {},
     "output_type": "execute_result"
    }
   ],
   "source": [
    "w * 2"
   ]
  },
  {
   "cell_type": "markdown",
   "id": "ae5d2f6e-6c00-4523-b4f5-9ca68d850e9e",
   "metadata": {
    "jp-MarkdownHeadingCollapsed": true
   },
   "source": [
    "# Random Number Generator"
   ]
  },
  {
   "cell_type": "code",
   "execution_count": 9,
   "id": "7a09aa45-1cea-4b53-9168-093a4dd03ef8",
   "metadata": {},
   "outputs": [
    {
     "data": {
      "text/plain": [
       "72"
      ]
     },
     "execution_count": 9,
     "metadata": {},
     "output_type": "execute_result"
    }
   ],
   "source": [
    "np.random.randint(0,100)"
   ]
  },
  {
   "cell_type": "markdown",
   "id": "dcb25a68-f5ca-4b92-b100-a44afd87d22e",
   "metadata": {},
   "source": [
    "# Linear Array Generator"
   ]
  },
  {
   "cell_type": "code",
   "execution_count": 10,
   "id": "0d0a4b28-ad57-4596-bd65-a2d7ada06da8",
   "metadata": {},
   "outputs": [
    {
     "data": {
      "text/plain": [
       "array([  0.        ,   2.04081633,   4.08163265,   6.12244898,\n",
       "         8.16326531,  10.20408163,  12.24489796,  14.28571429,\n",
       "        16.32653061,  18.36734694,  20.40816327,  22.44897959,\n",
       "        24.48979592,  26.53061224,  28.57142857,  30.6122449 ,\n",
       "        32.65306122,  34.69387755,  36.73469388,  38.7755102 ,\n",
       "        40.81632653,  42.85714286,  44.89795918,  46.93877551,\n",
       "        48.97959184,  51.02040816,  53.06122449,  55.10204082,\n",
       "        57.14285714,  59.18367347,  61.2244898 ,  63.26530612,\n",
       "        65.30612245,  67.34693878,  69.3877551 ,  71.42857143,\n",
       "        73.46938776,  75.51020408,  77.55102041,  79.59183673,\n",
       "        81.63265306,  83.67346939,  85.71428571,  87.75510204,\n",
       "        89.79591837,  91.83673469,  93.87755102,  95.91836735,\n",
       "        97.95918367, 100.        ])"
      ]
     },
     "execution_count": 10,
     "metadata": {},
     "output_type": "execute_result"
    }
   ],
   "source": [
    "np.linspace(0, 100, 50)"
   ]
  },
  {
   "cell_type": "code",
   "execution_count": 11,
   "id": "3256d081-dc86-459c-aa78-f6fc7c7d2ce9",
   "metadata": {},
   "outputs": [
    {
     "data": {
      "text/plain": [
       "array([  0.        ,   1.01010101,   2.02020202,   3.03030303,\n",
       "         4.04040404,   5.05050505,   6.06060606,   7.07070707,\n",
       "         8.08080808,   9.09090909,  10.1010101 ,  11.11111111,\n",
       "        12.12121212,  13.13131313,  14.14141414,  15.15151515,\n",
       "        16.16161616,  17.17171717,  18.18181818,  19.19191919,\n",
       "        20.2020202 ,  21.21212121,  22.22222222,  23.23232323,\n",
       "        24.24242424,  25.25252525,  26.26262626,  27.27272727,\n",
       "        28.28282828,  29.29292929,  30.3030303 ,  31.31313131,\n",
       "        32.32323232,  33.33333333,  34.34343434,  35.35353535,\n",
       "        36.36363636,  37.37373737,  38.38383838,  39.39393939,\n",
       "        40.4040404 ,  41.41414141,  42.42424242,  43.43434343,\n",
       "        44.44444444,  45.45454545,  46.46464646,  47.47474747,\n",
       "        48.48484848,  49.49494949,  50.50505051,  51.51515152,\n",
       "        52.52525253,  53.53535354,  54.54545455,  55.55555556,\n",
       "        56.56565657,  57.57575758,  58.58585859,  59.5959596 ,\n",
       "        60.60606061,  61.61616162,  62.62626263,  63.63636364,\n",
       "        64.64646465,  65.65656566,  66.66666667,  67.67676768,\n",
       "        68.68686869,  69.6969697 ,  70.70707071,  71.71717172,\n",
       "        72.72727273,  73.73737374,  74.74747475,  75.75757576,\n",
       "        76.76767677,  77.77777778,  78.78787879,  79.7979798 ,\n",
       "        80.80808081,  81.81818182,  82.82828283,  83.83838384,\n",
       "        84.84848485,  85.85858586,  86.86868687,  87.87878788,\n",
       "        88.88888889,  89.8989899 ,  90.90909091,  91.91919192,\n",
       "        92.92929293,  93.93939394,  94.94949495,  95.95959596,\n",
       "        96.96969697,  97.97979798,  98.98989899, 100.        ])"
      ]
     },
     "execution_count": 11,
     "metadata": {},
     "output_type": "execute_result"
    }
   ],
   "source": [
    "np.linspace(0, 100, 100)"
   ]
  },
  {
   "cell_type": "code",
   "execution_count": 12,
   "id": "85ad7cdb-01b9-4d74-9f87-a6207d0dd3b4",
   "metadata": {},
   "outputs": [
    {
     "data": {
      "text/plain": [
       "array([  0., 100.])"
      ]
     },
     "execution_count": 12,
     "metadata": {},
     "output_type": "execute_result"
    }
   ],
   "source": [
    "np.linspace(0, 100, 2)"
   ]
  },
  {
   "cell_type": "markdown",
   "id": "a3d2386e-3951-4fef-a695-09825a3c0ce2",
   "metadata": {},
   "source": [
    "# Log-Normal distribution"
   ]
  },
  {
   "cell_type": "code",
   "execution_count": 13,
   "id": "394c1ed4-4107-4cd9-adbb-b5464f1188e5",
   "metadata": {},
   "outputs": [
    {
     "name": "stdout",
     "output_type": "stream",
     "text": [
      "[0.72718245 0.83370997 0.83050351 0.98750792 0.8606143  0.82156698\n",
      " 0.77219993 1.03277822 1.24813125 1.45186387]\n"
     ]
    }
   ],
   "source": [
    "# Parameters\n",
    "mean = 0      # Mean of the underlying normal distribution\n",
    "sigma = 0.25  # Standard deviation of the underlying normal distribution\n",
    "size = 1000   # Number of samples\n",
    "\n",
    "# Generate log-normal distributed data\n",
    "samples = np.random.lognormal(mean, sigma, size)\n",
    "\n",
    "print(samples[:10])  # Print first 10 samples\n"
   ]
  },
  {
   "cell_type": "code",
   "execution_count": 14,
   "id": "bfd6c318-2c18-44ba-a699-2a45568f5b54",
   "metadata": {},
   "outputs": [],
   "source": [
    "import numpy as np\n",
    "\n",
    "left_tail_impact = 5000000\n",
    "right_tail_impact = 30000000"
   ]
  },
  {
   "cell_type": "code",
   "execution_count": 15,
   "id": "f9ef372c-f26a-4bbc-ab00-88050c08d938",
   "metadata": {},
   "outputs": [],
   "source": [
    "estimated_mean = (np.log(left_tail_impact) + np.log(right_tail_impact)) / 2\n",
    "estimated_sigma = (np.log(right_tail_impact) - np.log(left_tail_impact)) / 3.29"
   ]
  },
  {
   "cell_type": "code",
   "execution_count": 16,
   "id": "a0a2c947-8ec7-4bb0-95ca-17af88e8ee98",
   "metadata": {},
   "outputs": [],
   "source": [
    "data = np.random.lognormal(mean=estimated_mean, sigma=estimated_sigma, size=1)"
   ]
  },
  {
   "cell_type": "code",
   "execution_count": 17,
   "id": "ee5fbe4b-e6d3-4c70-8924-0e7d78baca5a",
   "metadata": {},
   "outputs": [
    {
     "data": {
      "text/plain": [
       "array([13007312.25254205])"
      ]
     },
     "execution_count": 17,
     "metadata": {},
     "output_type": "execute_result"
    }
   ],
   "source": [
    "data"
   ]
  },
  {
   "cell_type": "code",
   "execution_count": 18,
   "id": "c895c3a5-a8da-4103-a10b-0b6170ecef7e",
   "metadata": {},
   "outputs": [],
   "source": [
    "arr1=np.array([50,60,60, 70,80, 40, 42])"
   ]
  },
  {
   "cell_type": "code",
   "execution_count": 19,
   "id": "101357ac-7a05-4993-bd9c-35de264cf7a0",
   "metadata": {},
   "outputs": [
    {
     "data": {
      "text/plain": [
       "array([50, 60, 60, 70, 80, 40, 42])"
      ]
     },
     "execution_count": 19,
     "metadata": {},
     "output_type": "execute_result"
    }
   ],
   "source": [
    "arr1"
   ]
  },
  {
   "cell_type": "code",
   "execution_count": 20,
   "id": "9d4e7d9b-3802-46c4-8e6c-83612fbd4011",
   "metadata": {},
   "outputs": [
    {
     "data": {
      "text/plain": [
       "array([50, 60, 60, 60, 60, 40, 42])"
      ]
     },
     "execution_count": 20,
     "metadata": {},
     "output_type": "execute_result"
    }
   ],
   "source": [
    "np.clip(arr1, 0, 60)"
   ]
  },
  {
   "cell_type": "code",
   "execution_count": 21,
   "id": "033f27a8-dd71-4c9c-888f-6ffb11a04602",
   "metadata": {},
   "outputs": [
    {
     "data": {
      "text/plain": [
       "array([1, 0, 1, 1, 0, 0, 0, 1, 0, 0])"
      ]
     },
     "execution_count": 21,
     "metadata": {},
     "output_type": "execute_result"
    }
   ],
   "source": [
    "np.random.seed(10)\n",
    "np.random.binomial(n=1, p=0.5 , size=10)"
   ]
  },
  {
   "cell_type": "code",
   "execution_count": null,
   "id": "f841cb3e-15d1-4313-afed-d1c88a137795",
   "metadata": {},
   "outputs": [],
   "source": []
  },
  {
   "cell_type": "code",
   "execution_count": 22,
   "id": "d0b03c15-62d4-4f7a-94e7-1d17265b62a9",
   "metadata": {},
   "outputs": [],
   "source": [
    "arr1 = np.array([3, 4, 5, 6])"
   ]
  },
  {
   "cell_type": "code",
   "execution_count": 23,
   "id": "410107fc-1124-4ff3-9b01-47256fc83127",
   "metadata": {},
   "outputs": [],
   "source": [
    "cap = 400000000.00"
   ]
  },
  {
   "cell_type": "code",
   "execution_count": 24,
   "id": "4cb6cb8b-bfc1-4cf0-acf1-f857fd9a2641",
   "metadata": {},
   "outputs": [
    {
     "data": {
      "text/plain": [
       "400000000.0"
      ]
     },
     "execution_count": 24,
     "metadata": {},
     "output_type": "execute_result"
    }
   ],
   "source": [
    "cap"
   ]
  },
  {
   "cell_type": "code",
   "execution_count": 25,
   "id": "074bc662-6b81-41f0-beee-6092bf1dca15",
   "metadata": {},
   "outputs": [],
   "source": [
    "arr1=np.minimum(arr1, 5)"
   ]
  },
  {
   "cell_type": "code",
   "execution_count": 26,
   "id": "a398440e-d95e-4230-b332-964508b54ec3",
   "metadata": {},
   "outputs": [
    {
     "data": {
      "text/plain": [
       "array([3, 4, 5, 5])"
      ]
     },
     "execution_count": 26,
     "metadata": {},
     "output_type": "execute_result"
    }
   ],
   "source": [
    "arr1"
   ]
  },
  {
   "cell_type": "code",
   "execution_count": 27,
   "id": "37707141-abe9-492e-881f-8f12b4fae323",
   "metadata": {},
   "outputs": [],
   "source": [
    "from scipy import stats as st"
   ]
  },
  {
   "cell_type": "code",
   "execution_count": 28,
   "id": "7da8a783-869f-4cf3-a27d-20189c42a10b",
   "metadata": {},
   "outputs": [],
   "source": [
    "arr1 = np.array([3, 4, 5, 6])"
   ]
  },
  {
   "cell_type": "code",
   "execution_count": 29,
   "id": "722a8f31-005f-4dca-a861-e2e16c8d445b",
   "metadata": {},
   "outputs": [
    {
     "data": {
      "text/plain": [
       "3"
      ]
     },
     "execution_count": 29,
     "metadata": {},
     "output_type": "execute_result"
    }
   ],
   "source": [
    "st.mode(arr1)[0]"
   ]
  },
  {
   "cell_type": "code",
   "execution_count": 30,
   "id": "3afdaea7-361a-4768-a30d-6e2dbe845d7f",
   "metadata": {},
   "outputs": [],
   "source": [
    "arr1=np.array([1,1,1,3,5])"
   ]
  },
  {
   "cell_type": "code",
   "execution_count": 31,
   "id": "57ebf5a7-5b40-4915-a863-9d729c39f468",
   "metadata": {},
   "outputs": [
    {
     "data": {
      "text/plain": [
       "1"
      ]
     },
     "execution_count": 31,
     "metadata": {},
     "output_type": "execute_result"
    }
   ],
   "source": [
    "st.mode(arr1)[0]"
   ]
  },
  {
   "cell_type": "code",
   "execution_count": null,
   "id": "09c46be9-0bd2-45b8-a955-9ecbe94dc54c",
   "metadata": {},
   "outputs": [],
   "source": []
  }
 ],
 "metadata": {
  "kernelspec": {
   "display_name": "Python 3 (ipykernel)",
   "language": "python",
   "name": "python3"
  },
  "language_info": {
   "codemirror_mode": {
    "name": "ipython",
    "version": 3
   },
   "file_extension": ".py",
   "mimetype": "text/x-python",
   "name": "python",
   "nbconvert_exporter": "python",
   "pygments_lexer": "ipython3",
   "version": "3.12.7"
  }
 },
 "nbformat": 4,
 "nbformat_minor": 5
}
